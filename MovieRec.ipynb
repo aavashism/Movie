{
 "cells": [
  {
   "cell_type": "markdown",
   "source": [
    "## Movie Recommendation: IMDeezMovies\n",
    "Aavash Upadhyaya and Quang Vo\n",
    "\n",
    "Data set retrieved from https://grouplens.org/datasets/movielens/\n",
    "\n",
    "General overview\n",
    "- Users search for a movie, this is run through the search function\n",
    "- Ratings data then finds users who rated the searched movie highly and look for other things those users liked\n",
    "- Returns the best fit movie based on what other users liked"
   ],
   "metadata": {
    "collapsed": false
   }
  },
  {
   "cell_type": "markdown",
   "source": [
    "### Importing and Formatting Data"
   ],
   "metadata": {
    "collapsed": false
   }
  },
  {
   "cell_type": "code",
   "execution_count": 276,
   "outputs": [],
   "source": [
    "import pandas as pd\n",
    "import numpy as np\n",
    "import re ##regular expression library\n",
    "from sklearn.feature_extraction.text import TfidfVectorizer #turns text into feature vectors\n",
    "from sklearn.metrics.pairwise import cosine_similarity\n",
    "\n",
    "movieData = pd.read_csv(\"movies.csv\")\n",
    "ratingData = pd.read_csv(\"ratings.csv\")"
   ],
   "metadata": {
    "collapsed": false
   }
  },
  {
   "cell_type": "code",
   "execution_count": 277,
   "outputs": [
    {
     "data": {
      "text/plain": "       movieId                               title  \\\n0            1                    Toy Story (1995)   \n1            2                      Jumanji (1995)   \n2            3             Grumpier Old Men (1995)   \n3            4            Waiting to Exhale (1995)   \n4            5  Father of the Bride Part II (1995)   \n...        ...                                 ...   \n62418   209157                           We (2018)   \n62419   209159           Window of the Soul (2001)   \n62420   209163                    Bad Poems (2018)   \n62421   209169                 A Girl Thing (2001)   \n62422   209171      Women of Devil's Island (1962)   \n\n                                            genres  \n0      Adventure|Animation|Children|Comedy|Fantasy  \n1                       Adventure|Children|Fantasy  \n2                                   Comedy|Romance  \n3                             Comedy|Drama|Romance  \n4                                           Comedy  \n...                                            ...  \n62418                                        Drama  \n62419                                  Documentary  \n62420                                 Comedy|Drama  \n62421                           (no genres listed)  \n62422                       Action|Adventure|Drama  \n\n[62423 rows x 3 columns]",
      "text/html": "<div>\n<style scoped>\n    .dataframe tbody tr th:only-of-type {\n        vertical-align: middle;\n    }\n\n    .dataframe tbody tr th {\n        vertical-align: top;\n    }\n\n    .dataframe thead th {\n        text-align: right;\n    }\n</style>\n<table border=\"1\" class=\"dataframe\">\n  <thead>\n    <tr style=\"text-align: right;\">\n      <th></th>\n      <th>movieId</th>\n      <th>title</th>\n      <th>genres</th>\n    </tr>\n  </thead>\n  <tbody>\n    <tr>\n      <th>0</th>\n      <td>1</td>\n      <td>Toy Story (1995)</td>\n      <td>Adventure|Animation|Children|Comedy|Fantasy</td>\n    </tr>\n    <tr>\n      <th>1</th>\n      <td>2</td>\n      <td>Jumanji (1995)</td>\n      <td>Adventure|Children|Fantasy</td>\n    </tr>\n    <tr>\n      <th>2</th>\n      <td>3</td>\n      <td>Grumpier Old Men (1995)</td>\n      <td>Comedy|Romance</td>\n    </tr>\n    <tr>\n      <th>3</th>\n      <td>4</td>\n      <td>Waiting to Exhale (1995)</td>\n      <td>Comedy|Drama|Romance</td>\n    </tr>\n    <tr>\n      <th>4</th>\n      <td>5</td>\n      <td>Father of the Bride Part II (1995)</td>\n      <td>Comedy</td>\n    </tr>\n    <tr>\n      <th>...</th>\n      <td>...</td>\n      <td>...</td>\n      <td>...</td>\n    </tr>\n    <tr>\n      <th>62418</th>\n      <td>209157</td>\n      <td>We (2018)</td>\n      <td>Drama</td>\n    </tr>\n    <tr>\n      <th>62419</th>\n      <td>209159</td>\n      <td>Window of the Soul (2001)</td>\n      <td>Documentary</td>\n    </tr>\n    <tr>\n      <th>62420</th>\n      <td>209163</td>\n      <td>Bad Poems (2018)</td>\n      <td>Comedy|Drama</td>\n    </tr>\n    <tr>\n      <th>62421</th>\n      <td>209169</td>\n      <td>A Girl Thing (2001)</td>\n      <td>(no genres listed)</td>\n    </tr>\n    <tr>\n      <th>62422</th>\n      <td>209171</td>\n      <td>Women of Devil's Island (1962)</td>\n      <td>Action|Adventure|Drama</td>\n    </tr>\n  </tbody>\n</table>\n<p>62423 rows × 3 columns</p>\n</div>"
     },
     "execution_count": 277,
     "metadata": {},
     "output_type": "execute_result"
    }
   ],
   "source": [
    "movieData"
   ],
   "metadata": {
    "collapsed": false
   }
  },
  {
   "cell_type": "code",
   "execution_count": 278,
   "outputs": [],
   "source": [
    "def formatTitle(title):\n",
    "    return re.sub(\"[^a-zA-Z0-9 ]\", \"\", title)"
   ],
   "metadata": {
    "collapsed": false
   }
  },
  {
   "cell_type": "code",
   "execution_count": 279,
   "outputs": [],
   "source": [
    "movieData[\"formatTitle\"] = movieData[\"title\"].apply(formatTitle) ##Leaves only alphanumerics in titles"
   ],
   "metadata": {
    "collapsed": false
   }
  },
  {
   "cell_type": "code",
   "execution_count": 280,
   "outputs": [
    {
     "data": {
      "text/plain": "       movieId                               title  \\\n0            1                    Toy Story (1995)   \n1            2                      Jumanji (1995)   \n2            3             Grumpier Old Men (1995)   \n3            4            Waiting to Exhale (1995)   \n4            5  Father of the Bride Part II (1995)   \n...        ...                                 ...   \n62418   209157                           We (2018)   \n62419   209159           Window of the Soul (2001)   \n62420   209163                    Bad Poems (2018)   \n62421   209169                 A Girl Thing (2001)   \n62422   209171      Women of Devil's Island (1962)   \n\n                                            genres  \\\n0      Adventure|Animation|Children|Comedy|Fantasy   \n1                       Adventure|Children|Fantasy   \n2                                   Comedy|Romance   \n3                             Comedy|Drama|Romance   \n4                                           Comedy   \n...                                            ...   \n62418                                        Drama   \n62419                                  Documentary   \n62420                                 Comedy|Drama   \n62421                           (no genres listed)   \n62422                       Action|Adventure|Drama   \n\n                            formatTitle  \n0                        Toy Story 1995  \n1                          Jumanji 1995  \n2                 Grumpier Old Men 1995  \n3                Waiting to Exhale 1995  \n4      Father of the Bride Part II 1995  \n...                                 ...  \n62418                           We 2018  \n62419           Window of the Soul 2001  \n62420                    Bad Poems 2018  \n62421                 A Girl Thing 2001  \n62422       Women of Devils Island 1962  \n\n[62423 rows x 4 columns]",
      "text/html": "<div>\n<style scoped>\n    .dataframe tbody tr th:only-of-type {\n        vertical-align: middle;\n    }\n\n    .dataframe tbody tr th {\n        vertical-align: top;\n    }\n\n    .dataframe thead th {\n        text-align: right;\n    }\n</style>\n<table border=\"1\" class=\"dataframe\">\n  <thead>\n    <tr style=\"text-align: right;\">\n      <th></th>\n      <th>movieId</th>\n      <th>title</th>\n      <th>genres</th>\n      <th>formatTitle</th>\n    </tr>\n  </thead>\n  <tbody>\n    <tr>\n      <th>0</th>\n      <td>1</td>\n      <td>Toy Story (1995)</td>\n      <td>Adventure|Animation|Children|Comedy|Fantasy</td>\n      <td>Toy Story 1995</td>\n    </tr>\n    <tr>\n      <th>1</th>\n      <td>2</td>\n      <td>Jumanji (1995)</td>\n      <td>Adventure|Children|Fantasy</td>\n      <td>Jumanji 1995</td>\n    </tr>\n    <tr>\n      <th>2</th>\n      <td>3</td>\n      <td>Grumpier Old Men (1995)</td>\n      <td>Comedy|Romance</td>\n      <td>Grumpier Old Men 1995</td>\n    </tr>\n    <tr>\n      <th>3</th>\n      <td>4</td>\n      <td>Waiting to Exhale (1995)</td>\n      <td>Comedy|Drama|Romance</td>\n      <td>Waiting to Exhale 1995</td>\n    </tr>\n    <tr>\n      <th>4</th>\n      <td>5</td>\n      <td>Father of the Bride Part II (1995)</td>\n      <td>Comedy</td>\n      <td>Father of the Bride Part II 1995</td>\n    </tr>\n    <tr>\n      <th>...</th>\n      <td>...</td>\n      <td>...</td>\n      <td>...</td>\n      <td>...</td>\n    </tr>\n    <tr>\n      <th>62418</th>\n      <td>209157</td>\n      <td>We (2018)</td>\n      <td>Drama</td>\n      <td>We 2018</td>\n    </tr>\n    <tr>\n      <th>62419</th>\n      <td>209159</td>\n      <td>Window of the Soul (2001)</td>\n      <td>Documentary</td>\n      <td>Window of the Soul 2001</td>\n    </tr>\n    <tr>\n      <th>62420</th>\n      <td>209163</td>\n      <td>Bad Poems (2018)</td>\n      <td>Comedy|Drama</td>\n      <td>Bad Poems 2018</td>\n    </tr>\n    <tr>\n      <th>62421</th>\n      <td>209169</td>\n      <td>A Girl Thing (2001)</td>\n      <td>(no genres listed)</td>\n      <td>A Girl Thing 2001</td>\n    </tr>\n    <tr>\n      <th>62422</th>\n      <td>209171</td>\n      <td>Women of Devil's Island (1962)</td>\n      <td>Action|Adventure|Drama</td>\n      <td>Women of Devils Island 1962</td>\n    </tr>\n  </tbody>\n</table>\n<p>62423 rows × 4 columns</p>\n</div>"
     },
     "execution_count": 280,
     "metadata": {},
     "output_type": "execute_result"
    }
   ],
   "source": [
    "movieData ##should create another row with properly formatted titles"
   ],
   "metadata": {
    "collapsed": false
   }
  },
  {
   "cell_type": "code",
   "execution_count": 281,
   "outputs": [],
   "source": [
    "vectorizer = TfidfVectorizer(ngram_range=(1, 2)) ##converts movie title data into a frequency matrix based on frequncy\n",
    "                                                  #of movie title terms\n",
    "tfidf = vectorizer.fit_transform(movieData[\"formatTitle\"])"
   ],
   "metadata": {
    "collapsed": false
   }
  },
  {
   "cell_type": "markdown",
   "source": [
    "## Computing Title Similarities\n",
    "\n",
    "we will use this for the user search portion"
   ],
   "metadata": {
    "collapsed": false
   }
  },
  {
   "cell_type": "code",
   "execution_count": 282,
   "outputs": [],
   "source": [
    "title = \"Toy\"\n",
    "title = formatTitle(title)\n",
    "qVec = vectorizer.transform([title])\n",
    "similarArr = cosine_similarity(qVec, tfidf).flatten()\n",
    "indices = np.argpartition(similarArr, -5) [-5:]\n",
    "topFive = movieData.iloc[indices] [::-1] #top five most similar"
   ],
   "metadata": {
    "collapsed": false
   }
  },
  {
   "cell_type": "code",
   "execution_count": 283,
   "outputs": [
    {
     "data": {
      "text/plain": "array([0.47886319, 0.        , 0.        , ..., 0.        , 0.        ,\n       0.        ])"
     },
     "execution_count": 283,
     "metadata": {},
     "output_type": "execute_result"
    }
   ],
   "source": [
    "similarArr #Searches for a movie with Toy in the title\n",
    "           #Array showing similarity (index 1 = \"Toy Story 1995\" so higher similarity log)"
   ],
   "metadata": {
    "collapsed": false
   }
  },
  {
   "cell_type": "code",
   "execution_count": 284,
   "outputs": [
    {
     "data": {
      "text/plain": "       movieId               title  \\\n14813    78499  Toy Story 3 (2010)   \n3021      3114  Toy Story 2 (1999)   \n4823      4929     Toy, The (1982)   \n0            1    Toy Story (1995)   \n59767   201588  Toy Story 4 (2019)   \n\n                                                 genres       formatTitle  \n14813  Adventure|Animation|Children|Comedy|Fantasy|IMAX  Toy Story 3 2010  \n3021        Adventure|Animation|Children|Comedy|Fantasy  Toy Story 2 1999  \n4823                                             Comedy      Toy The 1982  \n0           Adventure|Animation|Children|Comedy|Fantasy    Toy Story 1995  \n59767               Adventure|Animation|Children|Comedy  Toy Story 4 2019  ",
      "text/html": "<div>\n<style scoped>\n    .dataframe tbody tr th:only-of-type {\n        vertical-align: middle;\n    }\n\n    .dataframe tbody tr th {\n        vertical-align: top;\n    }\n\n    .dataframe thead th {\n        text-align: right;\n    }\n</style>\n<table border=\"1\" class=\"dataframe\">\n  <thead>\n    <tr style=\"text-align: right;\">\n      <th></th>\n      <th>movieId</th>\n      <th>title</th>\n      <th>genres</th>\n      <th>formatTitle</th>\n    </tr>\n  </thead>\n  <tbody>\n    <tr>\n      <th>14813</th>\n      <td>78499</td>\n      <td>Toy Story 3 (2010)</td>\n      <td>Adventure|Animation|Children|Comedy|Fantasy|IMAX</td>\n      <td>Toy Story 3 2010</td>\n    </tr>\n    <tr>\n      <th>3021</th>\n      <td>3114</td>\n      <td>Toy Story 2 (1999)</td>\n      <td>Adventure|Animation|Children|Comedy|Fantasy</td>\n      <td>Toy Story 2 1999</td>\n    </tr>\n    <tr>\n      <th>4823</th>\n      <td>4929</td>\n      <td>Toy, The (1982)</td>\n      <td>Comedy</td>\n      <td>Toy The 1982</td>\n    </tr>\n    <tr>\n      <th>0</th>\n      <td>1</td>\n      <td>Toy Story (1995)</td>\n      <td>Adventure|Animation|Children|Comedy|Fantasy</td>\n      <td>Toy Story 1995</td>\n    </tr>\n    <tr>\n      <th>59767</th>\n      <td>201588</td>\n      <td>Toy Story 4 (2019)</td>\n      <td>Adventure|Animation|Children|Comedy</td>\n      <td>Toy Story 4 2019</td>\n    </tr>\n  </tbody>\n</table>\n</div>"
     },
     "execution_count": 284,
     "metadata": {},
     "output_type": "execute_result"
    }
   ],
   "source": [
    "topFive"
   ],
   "metadata": {
    "collapsed": false
   }
  },
  {
   "cell_type": "markdown",
   "source": [],
   "metadata": {
    "collapsed": false
   }
  },
  {
   "cell_type": "markdown",
   "source": [
    "## Retrieve Recommendations from User Recs"
   ],
   "metadata": {
    "collapsed": false
   }
  },
  {
   "cell_type": "code",
   "execution_count": 285,
   "outputs": [
    {
     "data": {
      "text/plain": "array([     3,      5,      8, ..., 162530, 162533, 162534], dtype=int64)"
     },
     "execution_count": 285,
     "metadata": {},
     "output_type": "execute_result"
    }
   ],
   "source": [
    "similarRecs = ratingData[(ratingData[\"movieId\"] == 1) & (ratingData[\"rating\"] >= 4.0)] [\"userId\"].unique()\n",
    "##looks at all users in ratings.csv that rating movieId 1 (Toy story) a 4.0 or higher\n",
    "similarRecs"
   ],
   "metadata": {
    "collapsed": false
   }
  },
  {
   "cell_type": "code",
   "execution_count": 286,
   "outputs": [
    {
     "data": {
      "text/plain": "255             29\n256             32\n257             50\n261            214\n263            293\n             ...  \n24999248    101962\n24999269    109487\n24999326    164179\n24999329    165549\n24999348    177593\nName: movieId, Length: 2321248, dtype: int64"
     },
     "execution_count": 286,
     "metadata": {},
     "output_type": "execute_result"
    }
   ],
   "source": [
    "similarUserRec = ratingData[(ratingData[\"userId\"].isin(similarRecs)) & (ratingData[\"rating\"] > 4)][\"movieId\"]\n",
    "similarUserRec"
   ],
   "metadata": {
    "collapsed": false
   }
  },
  {
   "cell_type": "code",
   "execution_count": 287,
   "outputs": [
    {
     "data": {
      "text/plain": "1       0.499483\n318     0.421226\n260     0.367817\n296     0.353337\n356     0.322708\n          ...   \n1148    0.103609\n1527    0.102867\n4995    0.102522\n778     0.102495\n34      0.100162\nName: movieId, Length: 90, dtype: float64"
     },
     "execution_count": 287,
     "metadata": {},
     "output_type": "execute_result"
    }
   ],
   "source": [
    "similarUserRec = similarUserRec.value_counts() / len(similarRecs)\n",
    "similarUserRec = similarUserRec[similarUserRec > .1]\n",
    "similarUserRec"
   ],
   "metadata": {
    "collapsed": false
   }
  },
  {
   "cell_type": "code",
   "execution_count": 288,
   "outputs": [
    {
     "data": {
      "text/plain": "318     0.345497\n296     0.287399\n2571    0.246370\n356     0.237518\n593     0.228071\n          ...   \n3114    0.054220\n2716    0.053892\n34      0.052729\n1073    0.049232\n1148    0.047922\nName: movieId, Length: 90, dtype: float64"
     },
     "execution_count": 288,
     "metadata": {},
     "output_type": "execute_result"
    }
   ],
   "source": [
    "userSet = ratingData[(ratingData[\"movieId\"].isin(similarUserRec.index) & (ratingData[\"rating\"] > 4))]\n",
    "userSetRec = userSet[\"movieId\"].value_counts() / len(userSet[\"userId\"].unique())\n",
    "##Finding the movie that specifically people who like a given movie like as well, not just a movie that most people would also like\n",
    "##So above finds the number of ALL users who like a given movie to compare with the number of users similar to us\n",
    "userSetRec"
   ],
   "metadata": {
    "collapsed": false
   }
  },
  {
   "cell_type": "code",
   "execution_count": 289,
   "outputs": [
    {
     "data": {
      "text/plain": "       similar       all\n1     0.499483  0.125923\n318   0.421226  0.345497\n260   0.367817  0.224334\n296   0.353337  0.287399\n356   0.322708  0.237518\n...        ...       ...\n1148  0.103609  0.047922\n1527  0.102867  0.066762\n4995  0.102522  0.076403\n778   0.102495  0.075473\n34    0.100162  0.052729\n\n[90 rows x 2 columns]",
      "text/html": "<div>\n<style scoped>\n    .dataframe tbody tr th:only-of-type {\n        vertical-align: middle;\n    }\n\n    .dataframe tbody tr th {\n        vertical-align: top;\n    }\n\n    .dataframe thead th {\n        text-align: right;\n    }\n</style>\n<table border=\"1\" class=\"dataframe\">\n  <thead>\n    <tr style=\"text-align: right;\">\n      <th></th>\n      <th>similar</th>\n      <th>all</th>\n    </tr>\n  </thead>\n  <tbody>\n    <tr>\n      <th>1</th>\n      <td>0.499483</td>\n      <td>0.125923</td>\n    </tr>\n    <tr>\n      <th>318</th>\n      <td>0.421226</td>\n      <td>0.345497</td>\n    </tr>\n    <tr>\n      <th>260</th>\n      <td>0.367817</td>\n      <td>0.224334</td>\n    </tr>\n    <tr>\n      <th>296</th>\n      <td>0.353337</td>\n      <td>0.287399</td>\n    </tr>\n    <tr>\n      <th>356</th>\n      <td>0.322708</td>\n      <td>0.237518</td>\n    </tr>\n    <tr>\n      <th>...</th>\n      <td>...</td>\n      <td>...</td>\n    </tr>\n    <tr>\n      <th>1148</th>\n      <td>0.103609</td>\n      <td>0.047922</td>\n    </tr>\n    <tr>\n      <th>1527</th>\n      <td>0.102867</td>\n      <td>0.066762</td>\n    </tr>\n    <tr>\n      <th>4995</th>\n      <td>0.102522</td>\n      <td>0.076403</td>\n    </tr>\n    <tr>\n      <th>778</th>\n      <td>0.102495</td>\n      <td>0.075473</td>\n    </tr>\n    <tr>\n      <th>34</th>\n      <td>0.100162</td>\n      <td>0.052729</td>\n    </tr>\n  </tbody>\n</table>\n<p>90 rows × 2 columns</p>\n</div>"
     },
     "execution_count": 289,
     "metadata": {},
     "output_type": "execute_result"
    }
   ],
   "source": [
    "recommend_quality = pd.concat([similarUserRec, userSetRec], axis=1)\n",
    "#recommendation percentage comparing similar users to the overall user set\n",
    "#we are looking for movies with big differences where most similar users like but overall not so much\n",
    "recommend_quality.columns = [\"similar\",\"all\"]\n",
    "recommend_quality"
   ],
   "metadata": {
    "collapsed": false
   }
  },
  {
   "cell_type": "code",
   "execution_count": 290,
   "outputs": [
    {
     "data": {
      "text/plain": "        similar       all   quality\n1      0.499483  0.125923  3.966586\n3114   0.170357  0.054220  3.141967\n4886   0.166645  0.071489  2.331060\n6377   0.166565  0.072960  2.282977\n1073   0.111591  0.049232  2.266621\n...         ...       ...       ...\n58559  0.180461  0.147871  1.220392\n318    0.421226  0.345497  1.219189\n4973   0.136148  0.113481  1.199744\n2959   0.252380  0.218792  1.153517\n79132  0.142380  0.132642  1.073417\n\n[90 rows x 3 columns]",
      "text/html": "<div>\n<style scoped>\n    .dataframe tbody tr th:only-of-type {\n        vertical-align: middle;\n    }\n\n    .dataframe tbody tr th {\n        vertical-align: top;\n    }\n\n    .dataframe thead th {\n        text-align: right;\n    }\n</style>\n<table border=\"1\" class=\"dataframe\">\n  <thead>\n    <tr style=\"text-align: right;\">\n      <th></th>\n      <th>similar</th>\n      <th>all</th>\n      <th>quality</th>\n    </tr>\n  </thead>\n  <tbody>\n    <tr>\n      <th>1</th>\n      <td>0.499483</td>\n      <td>0.125923</td>\n      <td>3.966586</td>\n    </tr>\n    <tr>\n      <th>3114</th>\n      <td>0.170357</td>\n      <td>0.054220</td>\n      <td>3.141967</td>\n    </tr>\n    <tr>\n      <th>4886</th>\n      <td>0.166645</td>\n      <td>0.071489</td>\n      <td>2.331060</td>\n    </tr>\n    <tr>\n      <th>6377</th>\n      <td>0.166565</td>\n      <td>0.072960</td>\n      <td>2.282977</td>\n    </tr>\n    <tr>\n      <th>1073</th>\n      <td>0.111591</td>\n      <td>0.049232</td>\n      <td>2.266621</td>\n    </tr>\n    <tr>\n      <th>...</th>\n      <td>...</td>\n      <td>...</td>\n      <td>...</td>\n    </tr>\n    <tr>\n      <th>58559</th>\n      <td>0.180461</td>\n      <td>0.147871</td>\n      <td>1.220392</td>\n    </tr>\n    <tr>\n      <th>318</th>\n      <td>0.421226</td>\n      <td>0.345497</td>\n      <td>1.219189</td>\n    </tr>\n    <tr>\n      <th>4973</th>\n      <td>0.136148</td>\n      <td>0.113481</td>\n      <td>1.199744</td>\n    </tr>\n    <tr>\n      <th>2959</th>\n      <td>0.252380</td>\n      <td>0.218792</td>\n      <td>1.153517</td>\n    </tr>\n    <tr>\n      <th>79132</th>\n      <td>0.142380</td>\n      <td>0.132642</td>\n      <td>1.073417</td>\n    </tr>\n  </tbody>\n</table>\n<p>90 rows × 3 columns</p>\n</div>"
     },
     "execution_count": 290,
     "metadata": {},
     "output_type": "execute_result"
    }
   ],
   "source": [
    "recommend_quality[\"quality\"] = recommend_quality[\"similar\"]/recommend_quality[\"all\"]\n",
    "recommend_quality = recommend_quality.sort_values(\"quality\", ascending=False)\n",
    "##movies with higher quality are better recommendation\n",
    "recommend_quality"
   ],
   "metadata": {
    "collapsed": false
   }
  },
  {
   "cell_type": "code",
   "execution_count": 291,
   "outputs": [
    {
     "data": {
      "text/plain": "       similar       all   quality  movieId  \\\n0     0.499483  0.125923  3.966586        1   \n3021  0.170357  0.054220  3.141967     3114   \n4780  0.166645  0.071489  2.331060     4886   \n6258  0.166565  0.072960  2.282977     6377   \n1047  0.111591  0.049232  2.266621     1073   \n8246  0.154207  0.069109  2.231373     8961   \n580   0.151449  0.068159  2.221989      588   \n1120  0.103609  0.047922  2.162033     1148   \n359   0.184730  0.086585  2.133522      364   \n587   0.128060  0.060551  2.114900      595   \n\n                                            title  \\\n0                                Toy Story (1995)   \n3021                           Toy Story 2 (1999)   \n4780                        Monsters, Inc. (2001)   \n6258                          Finding Nemo (2003)   \n1047   Willy Wonka & the Chocolate Factory (1971)   \n8246                      Incredibles, The (2004)   \n580                                Aladdin (1992)   \n1120  Wallace & Gromit: The Wrong Trousers (1993)   \n359                         Lion King, The (1994)   \n587                   Beauty and the Beast (1991)   \n\n                                               genres  \\\n0         Adventure|Animation|Children|Comedy|Fantasy   \n3021      Adventure|Animation|Children|Comedy|Fantasy   \n4780      Adventure|Animation|Children|Comedy|Fantasy   \n6258              Adventure|Animation|Children|Comedy   \n1047                  Children|Comedy|Fantasy|Musical   \n8246       Action|Adventure|Animation|Children|Comedy   \n580       Adventure|Animation|Children|Comedy|Musical   \n1120                  Animation|Children|Comedy|Crime   \n359   Adventure|Animation|Children|Drama|Musical|IMAX   \n587   Animation|Children|Fantasy|Musical|Romance|IMAX   \n\n                                  formatTitle  \n0                              Toy Story 1995  \n3021                         Toy Story 2 1999  \n4780                        Monsters Inc 2001  \n6258                        Finding Nemo 2003  \n1047  Willy Wonka  the Chocolate Factory 1971  \n8246                     Incredibles The 2004  \n580                              Aladdin 1992  \n1120  Wallace  Gromit The Wrong Trousers 1993  \n359                        Lion King The 1994  \n587                 Beauty and the Beast 1991  ",
      "text/html": "<div>\n<style scoped>\n    .dataframe tbody tr th:only-of-type {\n        vertical-align: middle;\n    }\n\n    .dataframe tbody tr th {\n        vertical-align: top;\n    }\n\n    .dataframe thead th {\n        text-align: right;\n    }\n</style>\n<table border=\"1\" class=\"dataframe\">\n  <thead>\n    <tr style=\"text-align: right;\">\n      <th></th>\n      <th>similar</th>\n      <th>all</th>\n      <th>quality</th>\n      <th>movieId</th>\n      <th>title</th>\n      <th>genres</th>\n      <th>formatTitle</th>\n    </tr>\n  </thead>\n  <tbody>\n    <tr>\n      <th>0</th>\n      <td>0.499483</td>\n      <td>0.125923</td>\n      <td>3.966586</td>\n      <td>1</td>\n      <td>Toy Story (1995)</td>\n      <td>Adventure|Animation|Children|Comedy|Fantasy</td>\n      <td>Toy Story 1995</td>\n    </tr>\n    <tr>\n      <th>3021</th>\n      <td>0.170357</td>\n      <td>0.054220</td>\n      <td>3.141967</td>\n      <td>3114</td>\n      <td>Toy Story 2 (1999)</td>\n      <td>Adventure|Animation|Children|Comedy|Fantasy</td>\n      <td>Toy Story 2 1999</td>\n    </tr>\n    <tr>\n      <th>4780</th>\n      <td>0.166645</td>\n      <td>0.071489</td>\n      <td>2.331060</td>\n      <td>4886</td>\n      <td>Monsters, Inc. (2001)</td>\n      <td>Adventure|Animation|Children|Comedy|Fantasy</td>\n      <td>Monsters Inc 2001</td>\n    </tr>\n    <tr>\n      <th>6258</th>\n      <td>0.166565</td>\n      <td>0.072960</td>\n      <td>2.282977</td>\n      <td>6377</td>\n      <td>Finding Nemo (2003)</td>\n      <td>Adventure|Animation|Children|Comedy</td>\n      <td>Finding Nemo 2003</td>\n    </tr>\n    <tr>\n      <th>1047</th>\n      <td>0.111591</td>\n      <td>0.049232</td>\n      <td>2.266621</td>\n      <td>1073</td>\n      <td>Willy Wonka &amp; the Chocolate Factory (1971)</td>\n      <td>Children|Comedy|Fantasy|Musical</td>\n      <td>Willy Wonka  the Chocolate Factory 1971</td>\n    </tr>\n    <tr>\n      <th>8246</th>\n      <td>0.154207</td>\n      <td>0.069109</td>\n      <td>2.231373</td>\n      <td>8961</td>\n      <td>Incredibles, The (2004)</td>\n      <td>Action|Adventure|Animation|Children|Comedy</td>\n      <td>Incredibles The 2004</td>\n    </tr>\n    <tr>\n      <th>580</th>\n      <td>0.151449</td>\n      <td>0.068159</td>\n      <td>2.221989</td>\n      <td>588</td>\n      <td>Aladdin (1992)</td>\n      <td>Adventure|Animation|Children|Comedy|Musical</td>\n      <td>Aladdin 1992</td>\n    </tr>\n    <tr>\n      <th>1120</th>\n      <td>0.103609</td>\n      <td>0.047922</td>\n      <td>2.162033</td>\n      <td>1148</td>\n      <td>Wallace &amp; Gromit: The Wrong Trousers (1993)</td>\n      <td>Animation|Children|Comedy|Crime</td>\n      <td>Wallace  Gromit The Wrong Trousers 1993</td>\n    </tr>\n    <tr>\n      <th>359</th>\n      <td>0.184730</td>\n      <td>0.086585</td>\n      <td>2.133522</td>\n      <td>364</td>\n      <td>Lion King, The (1994)</td>\n      <td>Adventure|Animation|Children|Drama|Musical|IMAX</td>\n      <td>Lion King The 1994</td>\n    </tr>\n    <tr>\n      <th>587</th>\n      <td>0.128060</td>\n      <td>0.060551</td>\n      <td>2.114900</td>\n      <td>595</td>\n      <td>Beauty and the Beast (1991)</td>\n      <td>Animation|Children|Fantasy|Musical|Romance|IMAX</td>\n      <td>Beauty and the Beast 1991</td>\n    </tr>\n  </tbody>\n</table>\n</div>"
     },
     "execution_count": 291,
     "metadata": {},
     "output_type": "execute_result"
    }
   ],
   "source": [
    "recommend_quality.head(10).merge(movieData, left_index=True, right_on=\"movieId\")"
   ],
   "metadata": {
    "collapsed": false
   }
  },
  {
   "cell_type": "markdown",
   "source": [
    "## Putting it all into a function:\n",
    "\n",
    "Compiling the functions written before into one"
   ],
   "metadata": {
    "collapsed": false
   }
  },
  {
   "cell_type": "code",
   "execution_count": 292,
   "outputs": [],
   "source": [
    "def findSimilarMovies(movieId):\n",
    "    similarRecs = ratingData[(ratingData[\"movieId\"] == movieId) & (ratingData[\"rating\"] >= 4.0)] [\"userId\"].unique()\n",
    "    similarUserRec = ratingData[(ratingData[\"userId\"].isin(similarRecs)) & (ratingData[\"rating\"] > 4)][\"movieId\"]\n",
    "\n",
    "    similarUserRec = similarUserRec.value_counts() / len(similarRecs)\n",
    "    similarUserRec = similarUserRec[similarUserRec > .1]\n",
    "\n",
    "    userSet = ratingData[(ratingData[\"movieId\"].isin(similarUserRec.index) & (ratingData[\"rating\"] > 4))]\n",
    "    userSetRec = userSet[\"movieId\"].value_counts() / len(userSet[\"userId\"].unique())\n",
    "\n",
    "    recommend_quality = pd.concat([similarUserRec, userSetRec], axis=1)\n",
    "    recommend_quality.columns = [\"similar\",\"all\"]\n",
    "\n",
    "    recommend_quality[\"quality\"] = recommend_quality[\"similar\"]/recommend_quality[\"all\"]\n",
    "    recommend_quality = recommend_quality.sort_values(\"quality\", ascending=False)\n",
    "    return recommend_quality.head(10).merge(movieData, left_index=True, right_on=\"movieId\")[[\"movieId\",\"quality\",\"genres\",\"formatTitle\"]]"
   ],
   "metadata": {
    "collapsed": false
   }
  },
  {
   "cell_type": "code",
   "execution_count": 293,
   "outputs": [
    {
     "data": {
      "text/plain": "      movieId    quality                                 genres  \\\n1           2  18.200580             Adventure|Children|Fantasy   \n578       586   5.504137                        Children|Comedy   \n495       500   5.460957                           Comedy|Drama   \n362       367   5.196343            Action|Comedy|Crime|Fantasy   \n721       736   5.005570      Action|Adventure|Romance|Thriller   \n579       587   4.482292  Comedy|Drama|Fantasy|Romance|Thriller   \n312       316   4.244766                Action|Adventure|Sci-Fi   \n372       377   3.858918                Action|Romance|Thriller   \n534       539   3.642351                   Comedy|Drama|Romance   \n1922     2011   3.616570                Adventure|Comedy|Sci-Fi   \n\n                          formatTitle  \n1                        Jumanji 1995  \n578                   Home Alone 1990  \n495                Mrs Doubtfire 1993  \n362                     Mask The 1994  \n721                      Twister 1996  \n579                        Ghost 1990  \n312                     Stargate 1994  \n372                        Speed 1994  \n534         Sleepless in Seattle 1993  \n1922  Back to the Future Part II 1989  ",
      "text/html": "<div>\n<style scoped>\n    .dataframe tbody tr th:only-of-type {\n        vertical-align: middle;\n    }\n\n    .dataframe tbody tr th {\n        vertical-align: top;\n    }\n\n    .dataframe thead th {\n        text-align: right;\n    }\n</style>\n<table border=\"1\" class=\"dataframe\">\n  <thead>\n    <tr style=\"text-align: right;\">\n      <th></th>\n      <th>movieId</th>\n      <th>quality</th>\n      <th>genres</th>\n      <th>formatTitle</th>\n    </tr>\n  </thead>\n  <tbody>\n    <tr>\n      <th>1</th>\n      <td>2</td>\n      <td>18.200580</td>\n      <td>Adventure|Children|Fantasy</td>\n      <td>Jumanji 1995</td>\n    </tr>\n    <tr>\n      <th>578</th>\n      <td>586</td>\n      <td>5.504137</td>\n      <td>Children|Comedy</td>\n      <td>Home Alone 1990</td>\n    </tr>\n    <tr>\n      <th>495</th>\n      <td>500</td>\n      <td>5.460957</td>\n      <td>Comedy|Drama</td>\n      <td>Mrs Doubtfire 1993</td>\n    </tr>\n    <tr>\n      <th>362</th>\n      <td>367</td>\n      <td>5.196343</td>\n      <td>Action|Comedy|Crime|Fantasy</td>\n      <td>Mask The 1994</td>\n    </tr>\n    <tr>\n      <th>721</th>\n      <td>736</td>\n      <td>5.005570</td>\n      <td>Action|Adventure|Romance|Thriller</td>\n      <td>Twister 1996</td>\n    </tr>\n    <tr>\n      <th>579</th>\n      <td>587</td>\n      <td>4.482292</td>\n      <td>Comedy|Drama|Fantasy|Romance|Thriller</td>\n      <td>Ghost 1990</td>\n    </tr>\n    <tr>\n      <th>312</th>\n      <td>316</td>\n      <td>4.244766</td>\n      <td>Action|Adventure|Sci-Fi</td>\n      <td>Stargate 1994</td>\n    </tr>\n    <tr>\n      <th>372</th>\n      <td>377</td>\n      <td>3.858918</td>\n      <td>Action|Romance|Thriller</td>\n      <td>Speed 1994</td>\n    </tr>\n    <tr>\n      <th>534</th>\n      <td>539</td>\n      <td>3.642351</td>\n      <td>Comedy|Drama|Romance</td>\n      <td>Sleepless in Seattle 1993</td>\n    </tr>\n    <tr>\n      <th>1922</th>\n      <td>2011</td>\n      <td>3.616570</td>\n      <td>Adventure|Comedy|Sci-Fi</td>\n      <td>Back to the Future Part II 1989</td>\n    </tr>\n  </tbody>\n</table>\n</div>"
     },
     "execution_count": 293,
     "metadata": {},
     "output_type": "execute_result"
    }
   ],
   "source": [
    "findSimilarMovies(2) ##Finding recommendation quality for movieId 2, which is Jumanji"
   ],
   "metadata": {
    "collapsed": false
   }
  }
 ],
 "metadata": {
  "kernelspec": {
   "display_name": "Python 3",
   "language": "python",
   "name": "python3"
  },
  "language_info": {
   "codemirror_mode": {
    "name": "ipython",
    "version": 2
   },
   "file_extension": ".py",
   "mimetype": "text/x-python",
   "name": "python",
   "nbconvert_exporter": "python",
   "pygments_lexer": "ipython2",
   "version": "2.7.6"
  }
 },
 "nbformat": 4,
 "nbformat_minor": 0
}
